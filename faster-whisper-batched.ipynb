{
 "cells": [
  {
   "cell_type": "markdown",
   "id": "128664de-0890-45e1-a250-4b3718161021",
   "metadata": {
    "tags": [],
    "user_expressions": []
   },
   "source": [
    "### Imports"
   ]
  },
  {
   "cell_type": "code",
   "execution_count": null,
   "id": "d3dfd75d-80cf-49c5-8019-87cdbd175576",
   "metadata": {},
   "outputs": [],
   "source": [
    "from faster_whisper import WhisperModel, BatchedInferencePipeline\n",
    "import pandas as pd\n",
    "import json\n",
    "import os\n",
    "import time\n",
    "import datetime\n",
    "import gc\n",
    "import py3nvml.py3nvml as nvml\n",
    "import logging\n",
    "from threading import Thread"
   ]
  },
  {
   "cell_type": "markdown",
   "id": "1a902069-86bc-4f05-9061-60f7d06e3cde",
   "metadata": {
    "tags": [],
    "user_expressions": []
   },
   "source": [
    "### Variables (modify these)"
   ]
  },
  {
   "cell_type": "code",
   "execution_count": null,
   "id": "ca95f612-2d78-40b0-b6d6-69e5a0f16fff",
   "metadata": {},
   "outputs": [],
   "source": [
    "model_version = \"large-v3\"  # options: https://github.com/beeldengeluid/dane-whisper-asr-worker?tab=readme-ov-file#model-options\n",
    "device = \"cuda\"  # \"cpu\" to use the CPU, \"cuda\" to use the GPU\n",
    "device_index = 1  # for multiple GPU setup. Indicates which GPU to use\n",
    "batch_size = 16\n",
    "compute_type = \"float32\"  # precision to use (fp16, fp32, int8, etc.)\n",
    "audios_path = \"/opt/app-root/src/nbest/cts-nl-mono/\"  # absolute path to folder where audio to be transcribed can be found\n",
    "out_path = \"/opt/app-root/src/results/cts_nl/faster-whisper-batched/\" + compute_type + \"/\" + model_version + \"/unlabelled/\"  # absolute path to folder where transcriptions should be saved\n",
    "vad = True  # whether to use Voice Activity Detection (VAD) or not\n",
    "# Performance filename parameters\n",
    "# GPU measurement parameter\n",
    "interval = 0.5  # how often to measure GPU usage (in s)"
   ]
  },
  {
   "cell_type": "markdown",
   "id": "2cc3d963-6a39-4b2c-a2ff-bd4dc4df6d2c",
   "metadata": {
    "tags": [],
    "user_expressions": []
   },
   "source": [
    "### Threading function (to measure GPU usage)"
   ]
  },
  {
   "cell_type": "code",
   "execution_count": null,
   "id": "417f461f-bcb2-4e6d-a0e6-1462faae7a8d",
   "metadata": {},
   "outputs": [],
   "source": [
    "class MyThread(Thread):\n",
    "    def __init__(self, func, params):\n",
    "        super(MyThread, self).__init__()\n",
    "        self.func = func\n",
    "        self.params = params\n",
    "        self.result = None\n",
    "\n",
    "    def run(self):\n",
    "        self.result = self.func(*self.params)\n",
    "\n",
    "    def get_result(self):\n",
    "        return self.result"
   ]
  },
  {
   "cell_type": "markdown",
   "id": "006f81e6-67ac-4893-8090-45d8668f8f12",
   "metadata": {
    "tags": [],
    "user_expressions": []
   },
   "source": [
    "### Running it all (modify where needed, mostly when changing implementation)"
   ]
  },
  {
   "cell_type": "code",
   "execution_count": null,
   "id": "e0cc003f-79a9-41f4-ade0-499f3ceaf9c4",
   "metadata": {
    "tags": []
   },
   "outputs": [],
   "source": [
    "### SETTING UP LOGGING\n",
    "\n",
    "# Can change the filename to add more parameters that we adjust during the benchmark\n",
    "logging.basicConfig(filename=out_path + \"log.txt\",\n",
    "                    format=\"%(asctime)s,%(msecs)d %(name)s %(levelname)s %(message)s\",\n",
    "                    level=logging.INFO,\n",
    "                    force=True)\n",
    "logger = logging.getLogger(__name__)\n",
    "consoleHandler = logging.StreamHandler()\n",
    "logger.addHandler(consoleHandler)\n",
    "\n",
    "# Will also add a dataframe to save each stat per file in an Excel sheet\n",
    "file_names = []\n",
    "gpu_mem = []\n",
    "gpu_power = []\n",
    "times = []\n",
    "\n",
    "### LOADING THE MODEL\n",
    "logger.info(\"================================START OF EVALUATION================================\")\n",
    "logger.info(\"batch_size: \" + str(batch_size))\n",
    "logger.info(\"=======================\")\n",
    "\n",
    "start = time.time()\n",
    "model = WhisperModel(model_version, device=device, device_index=device_index, compute_type=compute_type)\n",
    "batched_model = BatchedInferencePipeline(model=model)\n",
    "load_time = time.time() - start\n",
    "logger.info(f\"Time to load the model: {load_time} s\")\n",
    "file_names.append(\"Loading the model\")\n",
    "times.append(load_time)\n",
    "gpu_mem.append(0)\n",
    "gpu_power.append(0)\n",
    "\n",
    "logger.info(\n",
    "            \"Measuring maximum GPU memory usage on GPU device.\"\n",
    "            \" Make sure to not have additional processes running on the same GPU.\"\n",
    "        )\n",
    "# Initialization for measuring GPU usage\n",
    "nvml.nvmlInit()\n",
    "handle = nvml.nvmlDeviceGetHandleByIndex(device_index)\n",
    "gpu_name = nvml.nvmlDeviceGetName(handle)\n",
    "gpu_memory_limit = nvml.nvmlDeviceGetMemoryInfo(handle).total >> 20\n",
    "gpu_power_limit = nvml.nvmlDeviceGetPowerManagementLimit(handle) / 1000.0\n",
    "\n",
    "# Go through files to transcribe\n",
    "for file in os.listdir(audios_path):\n",
    "    # Start measuring GPU usage for this file\n",
    "    gpu_usage = {\"gpu_memory_usage\": [], \"gpu_power_usage\": []}\n",
    "\n",
    "    def _get_gpu_info():\n",
    "        while True:\n",
    "            gpu_usage[\"gpu_memory_usage\"].append(\n",
    "                nvml.nvmlDeviceGetMemoryInfo(handle).used >> 20\n",
    "            )\n",
    "            gpu_usage[\"gpu_power_usage\"].append(\n",
    "                nvml.nvmlDeviceGetPowerUsage(handle) / 1000\n",
    "            )\n",
    "            time.sleep(interval)\n",
    "\n",
    "            if stop:\n",
    "                break\n",
    "\n",
    "        return gpu_usage\n",
    "\n",
    "    stop = False\n",
    "    thread = MyThread(_get_gpu_info, params=())\n",
    "    thread.start()\n",
    "    # Measuring time spent transcribing this file\n",
    "    file_start = time.time()\n",
    "    # Transcribing the file\n",
    "    segments, _ = batched_model.transcribe(audios_path + file,\n",
    "                                           word_timestamps=True, \n",
    "                                           batch_size=batch_size)\n",
    "    segments_to_add = []\n",
    "    for segment in segments:\n",
    "        words_to_add = []\n",
    "        for word in segment.words:\n",
    "            words_to_add.append({\n",
    "                # There's an issue where the text output contains a whitespace at the front of the text\n",
    "                \"text\": word.word.strip(),\n",
    "                \"start\": word.start,\n",
    "                \"end\": word.end,\n",
    "                \"confidence\": word.probability\n",
    "            })\n",
    "        segments_to_add.append({\n",
    "            \"id\": segment.id,\n",
    "            \"seek\": segment.seek,\n",
    "            \"start\": segment.start,\n",
    "            \"end\": segment.end,\n",
    "            \"text\": segment.text.strip(),\n",
    "            \"tokens\": segment.tokens,\n",
    "            \"temperature\": segment.temperature,\n",
    "            \"avg_logprob\": segment.avg_logprob,\n",
    "            \"compression_ratio\": segment.compression_ratio,\n",
    "            \"no_speech_prob\": segment.no_speech_prob,\n",
    "            \"words\": words_to_add\n",
    "        })\n",
    "    result = {\"segments\": segments_to_add}\n",
    "    \n",
    "    # Saving results to JSON file\n",
    "    with open(out_path + file[:-3] + 'json', 'w', encoding='utf-8') as f:\n",
    "        json.dump(result, f, indent = 2, ensure_ascii = False)\n",
    "    \n",
    "    # Stop measuring GPU usage for this file\n",
    "    stop = True\n",
    "    thread.join()\n",
    "    file_time = time.time() - file_start\n",
    "    \n",
    "    logger.info(file[:-4] + ' has been transcribed')\n",
    "    logger.info(f\"Time spent: {file_time} s\")\n",
    "\n",
    "    # Output GPU max mem&power usage\n",
    "    max_memory_usage = max(gpu_usage[\"gpu_memory_usage\"])\n",
    "    max_power_usage = max(gpu_usage[\"gpu_power_usage\"])\n",
    "    logger.info(\n",
    "        \"Maximum GPU memory usage: %dMiB / %dMiB (%.2f%%)\"\n",
    "        % (\n",
    "            max_memory_usage,\n",
    "            gpu_memory_limit,\n",
    "            (max_memory_usage / gpu_memory_limit) * 100,\n",
    "        )\n",
    "    )\n",
    "    logger.info(\n",
    "        \"Maximum GPU power usage: %dW / %dW (%.2f%%)\"\n",
    "        % (\n",
    "            max_power_usage,\n",
    "            gpu_power_limit,\n",
    "            (max_power_usage / gpu_power_limit) * 100,\n",
    "        )\n",
    "    )\n",
    "    \n",
    "    file_names.append(file[:-4])\n",
    "    times.append(file_time)\n",
    "    gpu_mem.append(max_memory_usage)\n",
    "    gpu_power.append(max_power_usage)\n",
    "    \n",
    "    logger.info(\"--------------------------------\")\n",
    "        \n",
    "end = time.time()\n",
    "time_s = end - start\n",
    "logger.info('Total time spent transcribing: ' + str(datetime.timedelta(seconds=time_s)))\n",
    "logger.info(\"================================END OF EVALUATION================================\")\n",
    "\n",
    "# Cleanup for the next evaluation\n",
    "logging.shutdown()\n",
    "nvml.nvmlShutdown()\n",
    "del model\n",
    "gc.collect()"
   ]
  },
  {
   "cell_type": "code",
   "execution_count": null,
   "id": "87ac8db3-821f-4bc4-90a8-eb3601709d4e",
   "metadata": {
    "tags": []
   },
   "outputs": [],
   "source": [
    "df = pd.DataFrame({\"Time\": times, \"Max GPU mem usage (MiB)\": gpu_mem, \"Max GPU power usage (W)\": gpu_power}, index=file_names)\n",
    "df.to_csv(out_path + \"info.csv\")"
   ]
  }
 ],
 "metadata": {
  "kernelspec": {
   "display_name": "faster_custom",
   "language": "python",
   "name": "faster_custom"
  },
  "language_info": {
   "codemirror_mode": {
    "name": "ipython",
    "version": 3
   },
   "file_extension": ".py",
   "mimetype": "text/x-python",
   "name": "python",
   "nbconvert_exporter": "python",
   "pygments_lexer": "ipython3",
   "version": "3.9.18"
  }
 },
 "nbformat": 4,
 "nbformat_minor": 5
}
