{
 "cells": [
  {
   "cell_type": "markdown",
   "id": "68831847-15e8-4c27-b7d7-934ea61ce787",
   "metadata": {},
   "source": [
    "### Imports"
   ]
  },
  {
   "cell_type": "code",
   "execution_count": null,
   "id": "987f5dc9-b284-4393-9b9d-d45a31b0d8b3",
   "metadata": {
    "tags": []
   },
   "outputs": [],
   "source": [
    "from transformers import pipeline, GenerationConfig\n",
    "import torch\n",
    "import json\n",
    "import os\n",
    "import time\n",
    "import datetime\n",
    "import gc\n",
    "import py3nvml.py3nvml as nvml\n",
    "import logging\n",
    "from threading import Thread"
   ]
  },
  {
   "cell_type": "markdown",
   "id": "3528d31e-fddb-4dc0-85b6-3af0e2024059",
   "metadata": {},
   "source": [
    "### Variables (adjustable)"
   ]
  },
  {
   "cell_type": "code",
   "execution_count": null,
   "id": "9487011d-bea1-440a-895c-25ed01d7f878",
   "metadata": {
    "tags": []
   },
   "outputs": [],
   "source": [
    "device = \"cuda:1\"\n",
    "device_index = 1  # for multiple GPU setup. Indicates which GPU to use\n",
    "fp16 = True\n",
    "batch_size = 5\n",
    "model_version = \"large-v2\"\n",
    "audios_path = \"/opt/app-root/src/nbest/bn_nl_segments/\"\n",
    "audio_file = \"/opt/app-root/src/nbest/bn-nl/nbest-eval-2008-bn-nl-002.wav\"\n",
    "out_path = \"/opt/app-root/src/results/jax/large-v2/\"\n",
    "# GPU measurement parameter\n",
    "interval = 0.5  # how often to measure GPU usage (in s)"
   ]
  },
  {
   "cell_type": "markdown",
   "id": "a86f0d33-c877-4ebd-9a09-57e9b523274d",
   "metadata": {
    "tags": [],
    "user_expressions": []
   },
   "source": [
    "### Threading function (to measure GPU usage)"
   ]
  },
  {
   "cell_type": "code",
   "execution_count": null,
   "id": "79b70afe-64f7-4fb2-a55e-ae1d49aae1d5",
   "metadata": {},
   "outputs": [],
   "source": [
    "class MyThread(Thread):\n",
    "    def __init__(self, func, params):\n",
    "        super(MyThread, self).__init__()\n",
    "        self.func = func\n",
    "        self.params = params\n",
    "        self.result = None\n",
    "\n",
    "    def run(self):\n",
    "        self.result = self.func(*self.params)\n",
    "\n",
    "    def get_result(self):\n",
    "        return self.result"
   ]
  },
  {
   "cell_type": "markdown",
   "id": "81824105-7e01-4796-8d0f-248bc1c61ffb",
   "metadata": {},
   "source": [
    "### ffmpeg setup"
   ]
  },
  {
   "cell_type": "code",
   "execution_count": null,
   "id": "83714af3-8855-4f43-812b-34c25de459d6",
   "metadata": {
    "tags": []
   },
   "outputs": [],
   "source": [
    "# # Uncomment the 2 lines below if you want to download a static FFmpeg build\n",
    "# !curl https://johnvansickle.com/ffmpeg/releases/ffmpeg-release-amd64-static.tar.xz -o ffmpeg.tar.xz \\\n",
    "#  && tar -xf ffmpeg.tar.xz && rm ffmpeg.tar.xz\n",
    "\n",
    "# Add the build to PATH\n",
    "ffmdir = !find . -iname ffmpeg-*-static\n",
    "path = %env PATH\n",
    "path = path + ':' + ffmdir[0]\n",
    "%env PATH $path\n",
    "print('')\n",
    "!which ffmpeg\n",
    "print('Done!')"
   ]
  },
  {
   "cell_type": "markdown",
   "id": "9722d358-1c72-492c-bb1a-0e442c26fbae",
   "metadata": {
    "tags": [],
    "user_expressions": []
   },
   "source": [
    "### Running it all (modify where needed, mostly when changing implementation)"
   ]
  },
  {
   "cell_type": "code",
   "execution_count": null,
   "id": "feec9117-40a1-4e90-97ba-b58c103271ce",
   "metadata": {
    "tags": []
   },
   "outputs": [],
   "source": [
    "### SETTING UP THE LOGGER\n",
    "logging.basicConfig(filename=\"hf_\" + model_version + \"_batch_\" + str(batch_size) + \"_ctype_float16.txt\",\n",
    "                    format=\"%(asctime)s,%(msecs)d %(name)s %(levelname)s %(message)s\",\n",
    "                    level=logging.INFO,\n",
    "                    force=True)\n",
    "logger = logging.getLogger(__name__)\n",
    "consoleHandler = logging.StreamHandler()\n",
    "logger.addHandler(consoleHandler)\n",
    "\n",
    "### LOADING THE MODEL\n",
    "logger.info(\"================================START OF EVALUATION================================\")\n",
    "start = time.time()\n",
    "pipe = pipeline(\n",
    "  \"automatic-speech-recognition\",\n",
    "  model=\"openai/whisper-\" + model_version,\n",
    "  chunk_length_s=30,\n",
    "  device=device,\n",
    "  torch_dtype=torch.float16 if fp16 else torch.float32,\n",
    ")\n",
    "logger.info(f\"Time to load the model: {time.time() - start} s\")\n",
    "logger.info(\"================================\")\n",
    "logger.info(\n",
    "            \"Measuring maximum GPU memory usage on GPU device.\"\n",
    "            \" Make sure to not have additional processes running on the same GPU.\"\n",
    "        )\n",
    "# Initialization for measuring GPU usage\n",
    "nvml.nvmlInit()\n",
    "handle = nvml.nvmlDeviceGetHandleByIndex(device_index)\n",
    "gpu_name = nvml.nvmlDeviceGetName(handle)\n",
    "gpu_memory_limit = nvml.nvmlDeviceGetMemoryInfo(handle).total >> 20\n",
    "gpu_power_limit = nvml.nvmlDeviceGetPowerManagementLimit(handle) / 1000.0\n",
    "\n",
    "gpu_usage = {\"gpu_memory_usage\": [], \"gpu_power_usage\": []}\n",
    "\n",
    "def _get_gpu_info():\n",
    "    while True:\n",
    "        gpu_usage[\"gpu_memory_usage\"].append(\n",
    "            nvml.nvmlDeviceGetMemoryInfo(handle).used >> 20\n",
    "        )\n",
    "        gpu_usage[\"gpu_power_usage\"].append(\n",
    "            nvml.nvmlDeviceGetPowerUsage(handle) / 1000\n",
    "        )\n",
    "        time.sleep(interval)\n",
    "\n",
    "        if stop:\n",
    "            break\n",
    "\n",
    "    return gpu_usage\n",
    "\n",
    "stop = False\n",
    "thread = MyThread(_get_gpu_info, params=())\n",
    "thread.start()\n",
    "\n",
    "# Measuring time spent transcribing this file\n",
    "file_start = time.time()\n",
    "\n",
    "# we can also return timestamps for the predictions\n",
    "prediction = pipe(audio_file, batch_size=batch_size, return_timestamps=\"word\")[\"chunks\"]\n",
    "\n",
    "# Stop measuring GPU usage for this file\n",
    "stop = True\n",
    "thread.join()\n",
    "\n",
    "logger.info(f\"Time to transcribe: {time.time() - file_start} s\")\n",
    "max_memory_usage = max(gpu_usage[\"gpu_memory_usage\"])\n",
    "max_power_usage = max(gpu_usage[\"gpu_power_usage\"])\n",
    "logger.info(\n",
    "    \"Maximum GPU memory usage: %dMiB / %dMiB (%.2f%%)\"\n",
    "    % (\n",
    "        max_memory_usage,\n",
    "        gpu_memory_limit,\n",
    "        (max_memory_usage / gpu_memory_limit) * 100,\n",
    "    )\n",
    ")\n",
    "logger.info(\n",
    "    \"Maximum GPU power usage: %dW / %dW (%.2f%%)\"\n",
    "    % (\n",
    "        max_power_usage,\n",
    "        gpu_power_limit,\n",
    "        (max_power_usage / gpu_power_limit) * 100,\n",
    "    )\n",
    ")\n",
    "# print(prediction)\n",
    "logger.info(f\"Time to transcribe: {time.time() - file_start} s\")\n",
    "logger.info(\"===================\")\n",
    "logger.info('Total time spent evaluating: ' + str(datetime.timedelta(seconds=time.time() - start)))\n",
    "logger.info(\"================================END OF EVALUATION================================\")"
   ]
  }
 ],
 "metadata": {
  "kernelspec": {
   "display_name": "transformers",
   "language": "python",
   "name": "transformers"
  },
  "language_info": {
   "codemirror_mode": {
    "name": "ipython",
    "version": 3
   },
   "file_extension": ".py",
   "mimetype": "text/x-python",
   "name": "python",
   "nbconvert_exporter": "python",
   "pygments_lexer": "ipython3",
   "version": "3.12.3"
  }
 },
 "nbformat": 4,
 "nbformat_minor": 5
}
