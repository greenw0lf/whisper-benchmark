{
 "cells": [
  {
   "cell_type": "markdown",
   "id": "b008672d-1730-4c1e-976e-9c0b83b5cc2a",
   "metadata": {},
   "source": [
    "### Imports"
   ]
  },
  {
   "cell_type": "code",
   "execution_count": null,
   "id": "2f555003-0e36-41b8-b88a-8eaef6b1c46f",
   "metadata": {
    "tags": []
   },
   "outputs": [],
   "source": [
    "import whisper\n",
    "import pandas as pd\n",
    "import torch\n",
    "import json\n",
    "import os\n",
    "import time\n",
    "import datetime\n",
    "import gc\n",
    "import py3nvml.py3nvml as nvml\n",
    "import logging\n",
    "from threading import Thread"
   ]
  },
  {
   "cell_type": "markdown",
   "id": "6b84f6b7-0fe2-48a6-8728-c5321b6807fb",
   "metadata": {},
   "source": [
    "### Variables (adjustable)"
   ]
  },
  {
   "cell_type": "code",
   "execution_count": null,
   "id": "e321dbac-ce52-4493-b3f8-2e2096a51023",
   "metadata": {
    "tags": []
   },
   "outputs": [],
   "source": [
    "device_index = 0  # for multiple GPU setup. Indicates which GPU to use\n",
    "model_version = \"large-v3\"  # options: https://github.com/beeldengeluid/dane-whisper-asr-worker?tab=readme-ov-file#model-options\n",
    "fp16 = True  # compute type: True for float16, False for float32\n",
    "audios_path = \"/opt/app-root/src/nbest/bn-nl/\"  # absolute path to folder where audio to be transcribed can be found\n",
    "audio_file = \"/opt/app-root/src/nbest/bn-nl/nbest-eval-2008-bn-nl-012.wav\"  # for experimenting/testing purposes\n",
    "out_path = \"/opt/app-root/src/results/openai/\" + (\"float16/\" if fp16 else \"float32/\") + model_version + \"/unlabelled/\"  #absolute path to folder where transcriptions should be saved\n",
    "# GPU measurement parameter\n",
    "interval = 0.5  # how often to measure GPU usage (in s)"
   ]
  },
  {
   "cell_type": "markdown",
   "id": "d582ef9d-6f37-4c8a-a83a-c91889b510c7",
   "metadata": {
    "tags": [],
    "user_expressions": []
   },
   "source": [
    "### Threading function (to measure GPU usage)"
   ]
  },
  {
   "cell_type": "code",
   "execution_count": null,
   "id": "99c22255-4075-4176-bb7c-8f0782f992e1",
   "metadata": {},
   "outputs": [],
   "source": [
    "class MyThread(Thread):\n",
    "    def __init__(self, func, params):\n",
    "        super(MyThread, self).__init__()\n",
    "        self.func = func\n",
    "        self.params = params\n",
    "        self.result = None\n",
    "\n",
    "    def run(self):\n",
    "        self.result = self.func(*self.params)\n",
    "\n",
    "    def get_result(self):\n",
    "        return self.result"
   ]
  },
  {
   "cell_type": "markdown",
   "id": "e87cd8cf-ba76-4e0b-b91f-74cb0a8552f7",
   "metadata": {},
   "source": [
    "### ffmpeg setup"
   ]
  },
  {
   "cell_type": "code",
   "execution_count": null,
   "id": "fb1318d9-d244-4c41-8941-bb72baa7a8fd",
   "metadata": {
    "tags": []
   },
   "outputs": [],
   "source": [
    "# # Uncomment the 2 lines below if you want to download a static FFmpeg build\n",
    "# !curl https://johnvansickle.com/ffmpeg/releases/ffmpeg-release-amd64-static.tar.xz -o ffmpeg.tar.xz \\\n",
    "#  && tar -xf ffmpeg.tar.xz && rm ffmpeg.tar.xz\n",
    "\n",
    "# Add the build to PATH\n",
    "ffmdir = !find . -iname ffmpeg-*-static\n",
    "path = %env PATH\n",
    "path = path + ':' + ffmdir[0]\n",
    "%env PATH $path\n",
    "print('')\n",
    "!which ffmpeg\n",
    "print('Done!')"
   ]
  },
  {
   "cell_type": "markdown",
   "id": "8500ab07-d2b7-4ae0-87bd-3c9a6b2faf12",
   "metadata": {
    "tags": [],
    "user_expressions": []
   },
   "source": [
    "### Dataset benchmarking"
   ]
  },
  {
   "cell_type": "code",
   "execution_count": null,
   "id": "7d2762ba-84cd-43d7-8f27-149c2b5d08ab",
   "metadata": {
    "tags": []
   },
   "outputs": [],
   "source": [
    "### SETTING UP THE LOGGER\n",
    "logging.basicConfig(filename=out_path + \"log.txt\",\n",
    "                    format=\"%(asctime)s,%(msecs)d %(name)s %(levelname)s %(message)s\",\n",
    "                    level=logging.INFO,\n",
    "                    force=True)\n",
    "logger = logging.getLogger(__name__)\n",
    "consoleHandler = logging.StreamHandler()\n",
    "logger.addHandler(consoleHandler)\n",
    "\n",
    "# Will also add a dataframe to save each stat per file in an Excel sheet\n",
    "file_names = []\n",
    "gpu_mem = []\n",
    "gpu_power = []\n",
    "times = []\n",
    "\n",
    "### LOADING THE MODEL\n",
    "logger.info(\"================================START OF EVALUATION================================\")\n",
    "start = time.time()\n",
    "model = whisper.load_model(model_version)\n",
    "load_time = time.time() - start\n",
    "logger.info(f\"Time to load the model: {load_time} s\")\n",
    "logger.info(\"================================\")\n",
    "\n",
    "file_names.append(\"Loading the model\")\n",
    "times.append(load_time)\n",
    "gpu_mem.append(0)\n",
    "gpu_power.append(0)\n",
    "\n",
    "logger.info(\n",
    "            \"Measuring maximum GPU memory usage on GPU device.\"\n",
    "            \" Make sure to not have additional processes running on the same GPU.\"\n",
    "        )\n",
    "# Initialization for measuring GPU usage\n",
    "nvml.nvmlInit()\n",
    "handle = nvml.nvmlDeviceGetHandleByIndex(device_index)\n",
    "gpu_name = nvml.nvmlDeviceGetName(handle)\n",
    "gpu_memory_limit = nvml.nvmlDeviceGetMemoryInfo(handle).total >> 20\n",
    "gpu_power_limit = nvml.nvmlDeviceGetPowerManagementLimit(handle) / 1000.0\n",
    "\n",
    "# Go through files to transcribe\n",
    "for file in os.listdir(audios_path):\n",
    "    gpu_usage = {\"gpu_memory_usage\": [], \"gpu_power_usage\": []}\n",
    "\n",
    "    def _get_gpu_info():\n",
    "        while True:\n",
    "            gpu_usage[\"gpu_memory_usage\"].append(\n",
    "                nvml.nvmlDeviceGetMemoryInfo(handle).used >> 20\n",
    "            )\n",
    "            gpu_usage[\"gpu_power_usage\"].append(\n",
    "                nvml.nvmlDeviceGetPowerUsage(handle) / 1000\n",
    "            )\n",
    "            time.sleep(interval)\n",
    "\n",
    "            if stop:\n",
    "                break\n",
    "\n",
    "        return gpu_usage\n",
    "\n",
    "    stop = False\n",
    "    thread = MyThread(_get_gpu_info, params=())\n",
    "    thread.start()\n",
    "\n",
    "    # Measuring time spent transcribing this file\n",
    "    file_start = time.time()\n",
    "\n",
    "    result = model.transcribe(audio=audios_path + file, word_timestamps=True, fp16=fp16)\n",
    "\n",
    "    # Stop measuring GPU usage for this file\n",
    "    stop = True\n",
    "    thread.join()\n",
    "    \n",
    "    file_time = time.time() - file_start\n",
    "\n",
    "    logger.info(file[:-4] + ' has been transcribed')\n",
    "    logger.info(f\"Time to transcribe: {file_time} s\")\n",
    "    max_memory_usage = max(gpu_usage[\"gpu_memory_usage\"])\n",
    "    max_power_usage = max(gpu_usage[\"gpu_power_usage\"])\n",
    "    logger.info(\n",
    "        \"Maximum GPU memory usage: %dMiB / %dMiB (%.2f%%)\"\n",
    "        % (\n",
    "            max_memory_usage,\n",
    "            gpu_memory_limit,\n",
    "            (max_memory_usage / gpu_memory_limit) * 100,\n",
    "        )\n",
    "    )\n",
    "    logger.info(\n",
    "        \"Maximum GPU power usage: %dW / %dW (%.2f%%)\"\n",
    "        % (\n",
    "            max_power_usage,\n",
    "            gpu_power_limit,\n",
    "            (max_power_usage / gpu_power_limit) * 100,\n",
    "        )\n",
    "    )\n",
    "    \n",
    "    file_names.append(file[:-4])\n",
    "    times.append(file_time)\n",
    "    gpu_mem.append(max_memory_usage)\n",
    "    gpu_power.append(max_power_usage)\n",
    "    \n",
    "    # Formatting the transcription\n",
    "    segments_to_add = []\n",
    "    for segment in result[\"segments\"]:\n",
    "        words_to_add = []\n",
    "        for word in segment[\"words\"]:\n",
    "            words_to_add.append({\n",
    "                # There's an issue where the text output contains a whitespace at the front of the text\n",
    "                \"text\": word[\"word\"].strip(),\n",
    "                \"start\": word[\"start\"],\n",
    "                \"end\": word[\"end\"],\n",
    "                \"confidence\": word[\"probability\"]\n",
    "            })\n",
    "        segments_to_add.append({\n",
    "            \"id\": segment[\"id\"],\n",
    "            \"seek\": segment[\"seek\"],\n",
    "            \"start\": segment[\"start\"],\n",
    "            \"end\": segment[\"end\"],\n",
    "            \"text\": segment[\"text\"].strip(),\n",
    "            \"tokens\": segment[\"tokens\"],\n",
    "            \"temperature\": segment[\"temperature\"],\n",
    "            \"avg_logprob\": segment[\"avg_logprob\"],\n",
    "            \"compression_ratio\": segment[\"compression_ratio\"],\n",
    "            \"no_speech_prob\": segment[\"no_speech_prob\"],\n",
    "            \"words\": words_to_add\n",
    "        })\n",
    "    result = {\"segments\": segments_to_add}\n",
    "    \n",
    "    # Saving results to JSON file\n",
    "    with open(out_path + file[:-3] + 'json', 'w', encoding='utf-8') as f:\n",
    "        json.dump(result, f, indent = 2, ensure_ascii = False)\n",
    "    \n",
    "    logger.info(\"================================\")\n",
    "\n",
    "logger.info('Total time spent evaluating: ' + str(datetime.timedelta(seconds=time.time() - start)))\n",
    "logger.info(\"================================END OF EVALUATION================================\")\n",
    "\n",
    "logging.shutdown()\n",
    "nvml.nvmlShutdown()\n",
    "del model\n",
    "torch.cuda.empty_cache()\n",
    "gc.collect()"
   ]
  },
  {
   "cell_type": "code",
   "execution_count": null,
   "id": "14e7fe54-e069-4f48-8a9d-9dda74fcdcf5",
   "metadata": {
    "tags": []
   },
   "outputs": [],
   "source": [
    "df = pd.DataFrame({\"Time\": times, \"Max GPU mem usage (MiB)\": gpu_mem, \"Max GPU power usage (W)\": gpu_power}, index=file_names)\n",
    "df.to_csv(out_path + \"info.csv\")"
   ]
  }
 ],
 "metadata": {
  "kernelspec": {
   "display_name": "openai",
   "language": "python",
   "name": "openai"
  },
  "language_info": {
   "codemirror_mode": {
    "name": "ipython",
    "version": 3
   },
   "file_extension": ".py",
   "mimetype": "text/x-python",
   "name": "python",
   "nbconvert_exporter": "python",
   "pygments_lexer": "ipython3",
   "version": "3.9.18"
  }
 },
 "nbformat": 4,
 "nbformat_minor": 5
}
