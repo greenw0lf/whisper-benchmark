{
 "cells": [
  {
   "cell_type": "markdown",
   "id": "b008672d-1730-4c1e-976e-9c0b83b5cc2a",
   "metadata": {},
   "source": [
    "### Imports"
   ]
  },
  {
   "cell_type": "code",
   "execution_count": null,
   "id": "2f555003-0e36-41b8-b88a-8eaef6b1c46f",
   "metadata": {
    "tags": []
   },
   "outputs": [],
   "source": [
    "import whisper\n",
    "import torch\n",
    "import json\n",
    "import os\n",
    "import time\n",
    "import datetime\n",
    "import gc\n",
    "import py3nvml.py3nvml as nvml\n",
    "import logging\n",
    "from threading import Thread"
   ]
  },
  {
   "cell_type": "markdown",
   "id": "6b84f6b7-0fe2-48a6-8728-c5321b6807fb",
   "metadata": {},
   "source": [
    "### Variables (adjustable)"
   ]
  },
  {
   "cell_type": "code",
   "execution_count": null,
   "id": "e321dbac-ce52-4493-b3f8-2e2096a51023",
   "metadata": {
    "tags": []
   },
   "outputs": [],
   "source": [
    "device_index = 0  # for multiple GPU setup. Indicates which GPU to use\n",
    "model_version = \"large-v2\"\n",
    "audios_path = \"/opt/app-root/src/nbest/bn_nl_segments/\"\n",
    "audio_file = \"/opt/app-root/src/nbest/bn-nl/nbest-eval-2008-bn-nl-002.wav\"\n",
    "out_path = \"/opt/app-root/src/results/jax/large-v2/\"\n",
    "# GPU measurement parameter\n",
    "interval = 0.5  # how often to measure GPU usage (in s)"
   ]
  },
  {
   "cell_type": "markdown",
   "id": "d582ef9d-6f37-4c8a-a83a-c91889b510c7",
   "metadata": {
    "tags": [],
    "user_expressions": []
   },
   "source": [
    "### Threading function (to measure GPU usage)"
   ]
  },
  {
   "cell_type": "code",
   "execution_count": null,
   "id": "99c22255-4075-4176-bb7c-8f0782f992e1",
   "metadata": {},
   "outputs": [],
   "source": [
    "class MyThread(Thread):\n",
    "    def __init__(self, func, params):\n",
    "        super(MyThread, self).__init__()\n",
    "        self.func = func\n",
    "        self.params = params\n",
    "        self.result = None\n",
    "\n",
    "    def run(self):\n",
    "        self.result = self.func(*self.params)\n",
    "\n",
    "    def get_result(self):\n",
    "        return self.result"
   ]
  },
  {
   "cell_type": "markdown",
   "id": "e87cd8cf-ba76-4e0b-b91f-74cb0a8552f7",
   "metadata": {},
   "source": [
    "### ffmpeg setup"
   ]
  },
  {
   "cell_type": "code",
   "execution_count": null,
   "id": "fb1318d9-d244-4c41-8941-bb72baa7a8fd",
   "metadata": {
    "tags": []
   },
   "outputs": [],
   "source": [
    "# # Uncomment the 2 lines below if you want to download a static FFmpeg build\n",
    "# !curl https://johnvansickle.com/ffmpeg/releases/ffmpeg-release-amd64-static.tar.xz -o ffmpeg.tar.xz \\\n",
    "#  && tar -xf ffmpeg.tar.xz && rm ffmpeg.tar.xz\n",
    "\n",
    "# Add the build to PATH\n",
    "ffmdir = !find . -iname ffmpeg-*-static\n",
    "path = %env PATH\n",
    "path = path + ':' + ffmdir[0]\n",
    "%env PATH $path\n",
    "print('')\n",
    "!which ffmpeg\n",
    "print('Done!')"
   ]
  },
  {
   "cell_type": "markdown",
   "id": "8500ab07-d2b7-4ae0-87bd-3c9a6b2faf12",
   "metadata": {
    "tags": [],
    "user_expressions": []
   },
   "source": [
    "### Running it all (modify where needed, mostly when changing implementation)"
   ]
  },
  {
   "cell_type": "code",
   "execution_count": null,
   "id": "7d2762ba-84cd-43d7-8f27-149c2b5d08ab",
   "metadata": {
    "tags": []
   },
   "outputs": [],
   "source": [
    "### SETTING UP THE LOGGER\n",
    "logging.basicConfig(filename=\"openai_\" + model_version + \".txt\",\n",
    "                    format=\"%(asctime)s,%(msecs)d %(name)s %(levelname)s %(message)s\",\n",
    "                    level=logging.INFO,\n",
    "                    force=True)\n",
    "logger = logging.getLogger(__name__)\n",
    "consoleHandler = logging.StreamHandler()\n",
    "logger.addHandler(consoleHandler)\n",
    "\n",
    "### LOADING THE MODEL\n",
    "logger.info(\"================================START OF EVALUATION================================\")\n",
    "start = time.time()\n",
    "# 1. Transcribe with original whisper (batched)\n",
    "model = whisper.load_model(model_version)\n",
    "logger.info(f\"Time to load the model: {time.time() - start} s\")\n",
    "logger.info(\"================================\")\n",
    "logger.info(\n",
    "            \"Measuring maximum GPU memory usage on GPU device.\"\n",
    "            \" Make sure to not have additional processes running on the same GPU.\"\n",
    "        )\n",
    "# Initialization for measuring GPU usage\n",
    "nvml.nvmlInit()\n",
    "handle = nvml.nvmlDeviceGetHandleByIndex(device_index)\n",
    "gpu_name = nvml.nvmlDeviceGetName(handle)\n",
    "gpu_memory_limit = nvml.nvmlDeviceGetMemoryInfo(handle).total >> 20\n",
    "gpu_power_limit = nvml.nvmlDeviceGetPowerManagementLimit(handle) / 1000.0\n",
    "\n",
    "gpu_usage = {\"gpu_memory_usage\": [], \"gpu_power_usage\": []}\n",
    "\n",
    "def _get_gpu_info():\n",
    "    while True:\n",
    "        gpu_usage[\"gpu_memory_usage\"].append(\n",
    "            nvml.nvmlDeviceGetMemoryInfo(handle).used >> 20\n",
    "        )\n",
    "        gpu_usage[\"gpu_power_usage\"].append(\n",
    "            nvml.nvmlDeviceGetPowerUsage(handle) / 1000\n",
    "        )\n",
    "        time.sleep(interval)\n",
    "\n",
    "        if stop:\n",
    "            break\n",
    "\n",
    "    return gpu_usage\n",
    "\n",
    "stop = False\n",
    "thread = MyThread(_get_gpu_info, params=())\n",
    "thread.start()\n",
    "\n",
    "# Measuring time spent transcribing this file\n",
    "file_start = time.time()\n",
    "\n",
    "result = model.transcribe(audio=audio_file, word_timestamps=True)\n",
    "# print(result)\n",
    "\n",
    "# Stop measuring GPU usage for this file\n",
    "stop = True\n",
    "thread.join()\n",
    "\n",
    "logger.info(f\"Time to transcribe: {time.time() - file_start} s\")\n",
    "max_memory_usage = max(gpu_usage[\"gpu_memory_usage\"])\n",
    "max_power_usage = max(gpu_usage[\"gpu_power_usage\"])\n",
    "logger.info(\n",
    "    \"Maximum GPU memory usage: %dMiB / %dMiB (%.2f%%)\"\n",
    "    % (\n",
    "        max_memory_usage,\n",
    "        gpu_memory_limit,\n",
    "        (max_memory_usage / gpu_memory_limit) * 100,\n",
    "    )\n",
    ")\n",
    "logger.info(\n",
    "    \"Maximum GPU power usage: %dW / %dW (%.2f%%)\"\n",
    "    % (\n",
    "        max_power_usage,\n",
    "        gpu_power_limit,\n",
    "        (max_power_usage / gpu_power_limit) * 100,\n",
    "    )\n",
    ")\n",
    "logger.info(\"================================\")\n",
    "logger.info('Total time spent evaluating: ' + str(datetime.timedelta(seconds=time.time() - start)))\n",
    "logger.info(\"================================END OF EVALUATION================================\")\n",
    "\n",
    "logging.shutdown()\n",
    "nvml.nvmlShutdown()\n",
    "del model\n",
    "torch.cuda.empty_cache()\n",
    "gc.collect()"
   ]
  }
 ],
 "metadata": {
  "kernelspec": {
   "display_name": "openai",
   "language": "python",
   "name": "openai"
  },
  "language_info": {
   "codemirror_mode": {
    "name": "ipython",
    "version": 3
   },
   "file_extension": ".py",
   "mimetype": "text/x-python",
   "name": "python",
   "nbconvert_exporter": "python",
   "pygments_lexer": "ipython3",
   "version": "3.9.18"
  }
 },
 "nbformat": 4,
 "nbformat_minor": 5
}
